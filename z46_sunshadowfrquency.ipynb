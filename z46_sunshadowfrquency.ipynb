{
  "nbformat": 4,
  "nbformat_minor": 0,
  "metadata": {
    "colab": {
      "provenance": []
    },
    "kernelspec": {
      "name": "python3",
      "display_name": "Python 3"
    },
    "language_info": {
      "name": "python"
    }
  },
  "cells": [
    {
      "cell_type": "code",
      "execution_count": null,
      "metadata": {
        "id": "faGXcjCHApLL"
      },
      "outputs": [],
      "source": [
        "import pandas as pd\n",
        "import arcpy\n",
        "\n",
        "# Corrected file path with raw string\n",
        "file_path = r'C:\\Users\\yyang295\\Desktop\\Sunrise_Sunset_Intervals_2023_LA.xlsx'\n",
        "df = pd.read_excel(file_path)\n",
        "\n",
        "# Convert time to datetime format for manipulation\n",
        "df['DateTime'] = pd.to_datetime(df['Time'], format='%I:%M %p')\n",
        "\n",
        "# Generate end times by adding 10 minutes to start times\n",
        "df['EndDateTime'] = df['DateTime'] + pd.Timedelta(minutes=10)\n",
        "\n",
        "# Convert back to string format for use in the script\n",
        "df['StartTime'] = df['DateTime'].dt.strftime('%m/%d/%Y %I:%M:%S %p')\n",
        "df['EndTime'] = df['EndDateTime'].dt.strftime('%m/%d/%Y %I:%M:%S %p')\n",
        "\n",
        "# Prepare time intervals from the dataframe as a list of tuples\n",
        "time_intervals = df[['StartTime', 'EndTime']].apply(tuple, axis=1).tolist()\n",
        "\n",
        "def Model4(time_intervals):\n",
        "    arcpy.env.overwriteOutput = False\n",
        "    arcpy.CheckOutExtension(\"3D\")\n",
        "\n",
        "    exbuild_Layer3DToFeatureClas = \"exbuild_Layer3DToFeatureClas\"\n",
        "    exfree_Layer3DToFeatureClass = \"exfree_Layer3DToFeatureClass\"\n",
        "    extree_Layer3DToFeatureClass = \"extree_Layer3DToFeatureClass\"\n",
        "    ImageServer = \"https://elevation3d.arcgis.com/arcgis/services/WorldElevation3D/Terrain3D/ImageServer\"\n",
        "\n",
        "    for interval in time_intervals:\n",
        "        start_time, end_time = interval\n",
        "\n",
        "        jan1_filename = fr\"C:\\Users\\yyang295\\Documents\\ArcGIS\\Packages\\yifan1030_0029e5\\p30\\myproject.gdb\\jan1_{start_time.replace('/', '').replace(':', '').replace(' ', '')}\"\n",
        "        jan12_filename = fr\"C:\\Users\\yyang295\\Documents\\ArcGIS\\Packages\\yifan1030_0029e5\\p30\\myproject.gdb\\jan12_{start_time.replace('/', '').replace(':', '').replace(' ', '')}\"\n",
        "\n",
        "        arcpy.ddd.SunShadowFrequency(in_features=[exbuild_Layer3DToFeatureClas, exfree_Layer3DToFeatureClass, extree_Layer3DToFeatureClass], ground=ImageServer, out_raster=jan1_filename, start_time=start_time, end_time=end_time, time_interval=\"10 Minutes\")\n",
        "        jan1 = arcpy.Raster(jan1_filename)\n",
        "\n",
        "        arcpy.ddd.SunShadowFrequency(in_features=[exbuild_Layer3DToFeatureClas, exfree_Layer3DToFeatureClass], ground=ImageServer, out_raster=jan12_filename, start_time=start_time, end_time=end_time)\n",
        "        jan12 = arcpy.Raster(jan12_filename)\n",
        "\n",
        "if __name__ == '__main__':\n",
        "    with arcpy.EnvManager(scratchWorkspace=r\"C:\\Users\\yyang295\\Documents\\ArcGIS\\Packages\\yifan1030_0029e5\\p30\\myproject.gdb\", workspace=r\"C:\\Users\\yyang295\\Documents\\ArcGIS\\Packages\\yifan1030_0029e5\\p30\\myproject.gdb\"):\n",
        "        Model4(time_intervals)"
      ]
    }
  ]
}